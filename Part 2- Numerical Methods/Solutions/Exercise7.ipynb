{
 "cells": [
  {
   "cell_type": "code",
   "execution_count": 8,
   "metadata": {},
   "outputs": [],
   "source": [
    "import numpy as np\n",
    "\n",
    "def deriv(f,x0,h):\n",
    "# This function takes as arguments the C2 function f, a point x0 in the\n",
    "# domain of f and a perturbation scalar h\n",
    "# the output d is the numerical approximation of the derivative of f at the\n",
    "# point x0\n",
    "    return (f(x0+h)-f(x0-h))/(2*h)\n",
    "\n",
    "def maxnwt(f,x0,h):\n",
    "# This function takes as inputs a function f, scalar guess for the of\n",
    "# stationary point of f x0, and scalar perturbation h to compute the\n",
    "# derivative.\n",
    "# The output is the numerical approximation to the stationary point of f,\n",
    "# following the Newton-Rhapson method.\n",
    "\n",
    "    df = lambda x: deriv(f,x,h)\n",
    "\n",
    "    i = 1;\n",
    "\n",
    "    while i <= 999 and abs(df(x0))>h:\n",
    "        x0 = x0 - df(x0)/deriv(df,x0,h);\n",
    "        i = i + 1\n",
    "\n",
    "    if df(x0) > h or np.isnan(x0) == 1:\n",
    "        print('Stationary point not found')\n",
    "    elif df(x0)<=h:\n",
    "        display(['stationary point found in ', str(i), ' iterations'])\n",
    "        if deriv(df,x0,h) < -h:\n",
    "            display('Second derivative < 0. Local maximum found!')\n",
    "        elif abs(deriv(df,x0,h)) < h:\n",
    "            display('Second derivative = 0. Inflection point!')\n",
    "        elif deriv(df,x0,h) > h:\n",
    "            display('Second derivative > 0. Local minimum found!')\n",
    "        return x0"
   ]
  },
  {
   "cell_type": "code",
   "execution_count": 9,
   "metadata": {},
   "outputs": [
    {
     "data": {
      "text/plain": [
       "['stationary point found in ', '2', ' iterations']"
      ]
     },
     "metadata": {},
     "output_type": "display_data"
    },
    {
     "data": {
      "text/plain": [
       "'Second derivative < 0. Local maximum found!'"
      ]
     },
     "metadata": {},
     "output_type": "display_data"
    },
    {
     "data": {
      "text/plain": [
       "-1.028510610012745e-08"
      ]
     },
     "execution_count": 9,
     "metadata": {},
     "output_type": "execute_result"
    }
   ],
   "source": [
    "f = lambda x: -x**2\n",
    "maxnwt(f,-10,0.001)"
   ]
  },
  {
   "cell_type": "markdown",
   "metadata": {},
   "source": [
    "Seems to be working! Let's apply it to solve the maximization problem in $s$ as asked. Starting to define the value function:"
   ]
  },
  {
   "cell_type": "code",
   "execution_count": 10,
   "metadata": {},
   "outputs": [],
   "source": [
    "def vf(s0):\n",
    "    \n",
    "    #parameters\n",
    "    mu = 1.1\n",
    "    beta = 0.95\n",
    "    gamma = 1.2\n",
    "    R = 1.05\n",
    "    y = 10\n",
    "    \n",
    "    return ((y-s0)**(1-mu))/(1-mu)+beta*(((y+R*s0)**(1-gamma))/(1-gamma))"
   ]
  },
  {
   "cell_type": "code",
   "execution_count": 12,
   "metadata": {},
   "outputs": [
    {
     "data": {
      "text/plain": [
       "['stationary point found in ', '3', ' iterations']"
      ]
     },
     "metadata": {},
     "output_type": "display_data"
    },
    {
     "data": {
      "text/plain": [
       "'Second derivative < 0. Local maximum found!'"
      ]
     },
     "metadata": {},
     "output_type": "display_data"
    },
    {
     "data": {
      "text/plain": [
       "-0.978480814620234"
      ]
     },
     "execution_count": 12,
     "metadata": {},
     "output_type": "execute_result"
    }
   ],
   "source": [
    "maxnwt(vf,1,0.0001)"
   ]
  },
  {
   "cell_type": "code",
   "execution_count": null,
   "metadata": {},
   "outputs": [],
   "source": []
  }
 ],
 "metadata": {
  "kernelspec": {
   "display_name": "Python 3",
   "language": "python",
   "name": "python3"
  },
  "language_info": {
   "codemirror_mode": {
    "name": "ipython",
    "version": 3
   },
   "file_extension": ".py",
   "mimetype": "text/x-python",
   "name": "python",
   "nbconvert_exporter": "python",
   "pygments_lexer": "ipython3",
   "version": "3.7.6"
  }
 },
 "nbformat": 4,
 "nbformat_minor": 4
}
