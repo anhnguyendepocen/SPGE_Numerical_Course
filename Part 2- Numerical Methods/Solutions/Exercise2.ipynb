{
 "cells": [
  {
   "cell_type": "code",
   "execution_count": 3,
   "metadata": {},
   "outputs": [],
   "source": [
    "# What is it that the algorithm needs? A function in the form f(x)=0, \n",
    "# two scalars that define an interval where we assume a root exists, and a tolerance level.\n",
    "import numpy as np\n",
    "def bisection(f,lb,ub,tol):               #creates the bisection function with four input arguments\n",
    "    error = 1                             #initializes the error variable \n",
    "    while error > tol:                    #initializes by checking if error>tol. If so, exit while. Otherwise, continue.\n",
    "        mp = (lb+ub)/2                    #computes the midpoint between lb and ub\n",
    "        if np.sign(f(lb))==np.sign(f(mp)):#checks if the lb has the same sign as the mid point. \n",
    "            lb = mp                       #if it does, update lb because the root is to the right of lb\n",
    "        else:                             #if not there must exist a root in the [lb,mp] interval so update ub to mp\n",
    "            ub = mp\n",
    "        error = abs(f((ub+lb)/2))         #computes the absolute value of the error\n",
    "        #print(lb,ub)                 #prints it \n",
    "        #print(error)\n",
    "    return (lb+ub)/2                      #returns the value as the output of the bisection functions"
   ]
  },
  {
   "cell_type": "code",
   "execution_count": 4,
   "metadata": {},
   "outputs": [
    {
     "data": {
      "text/plain": [
       "0.5670944159657585"
      ]
     },
     "execution_count": 4,
     "metadata": {},
     "output_type": "execute_result"
    }
   ],
   "source": [
    "# lets apply the bisection method to the excess demand function with Q = 1\n",
    "# first we need to define the excess demand function\n",
    "def g(p):\n",
    "    e = 1-0.5*p**-0.5-0.3*p**-0.2\n",
    "    return e\n",
    "\n",
    "bisection(g, 0.05, 5, 10**-15)"
   ]
  },
  {
   "cell_type": "code",
   "execution_count": 5,
   "metadata": {},
   "outputs": [
    {
     "data": {
      "text/plain": [
       "0.5670944159657567"
      ]
     },
     "execution_count": 5,
     "metadata": {},
     "output_type": "execute_result"
    }
   ],
   "source": [
    "# alternatively we can always the function inline directly. Useful for small functions. \n",
    "\n",
    "g = lambda p:  1-0.5*p**-0.5-0.3*p**-0.2\n",
    "\n",
    "bisection(g , 0.1,5,10**-15)"
   ]
  },
  {
   "cell_type": "code",
   "execution_count": 6,
   "metadata": {},
   "outputs": [
    {
     "data": {
      "text/plain": [
       "0.5670944159657567"
      ]
     },
     "execution_count": 6,
     "metadata": {},
     "output_type": "execute_result"
    }
   ],
   "source": [
    "# finally we could define the function directly in the argument\n",
    "# Note, however, that this way the function is not saved in memory\n",
    "\n",
    "bisection(lambda p:  1-0.5*p**-0.5-0.3*p**-0.2 , 0.1,5,10**-15)"
   ]
  }
 ],
 "metadata": {
  "kernelspec": {
   "display_name": "Python 3",
   "language": "python",
   "name": "python3"
  },
  "language_info": {
   "codemirror_mode": {
    "name": "ipython",
    "version": 3
   },
   "file_extension": ".py",
   "mimetype": "text/x-python",
   "name": "python",
   "nbconvert_exporter": "python",
   "pygments_lexer": "ipython3",
   "version": "3.7.6"
  },
  "varInspector": {
   "cols": {
    "lenName": 16,
    "lenType": 16,
    "lenVar": 40
   },
   "kernels_config": {
    "python": {
     "delete_cmd_postfix": "",
     "delete_cmd_prefix": "del ",
     "library": "var_list.py",
     "varRefreshCmd": "print(var_dic_list())"
    },
    "r": {
     "delete_cmd_postfix": ") ",
     "delete_cmd_prefix": "rm(",
     "library": "var_list.r",
     "varRefreshCmd": "cat(var_dic_list()) "
    }
   },
   "types_to_exclude": [
    "module",
    "function",
    "builtin_function_or_method",
    "instance",
    "_Feature"
   ],
   "window_display": false
  }
 },
 "nbformat": 4,
 "nbformat_minor": 2
}
