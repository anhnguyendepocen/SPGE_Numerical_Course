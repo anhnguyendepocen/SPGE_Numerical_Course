{
 "cells": [
  {
   "cell_type": "code",
   "execution_count": 1,
   "metadata": {},
   "outputs": [],
   "source": [
    "def gsearch(f,a,b):\n",
    "\n",
    "    xl = a+(3-5**.5)/2*(b-a) \n",
    "    fl = f(xl)\n",
    "    xh = a+(5**.5-1)/2*(b-a) \n",
    "    fh = f(xh)\n",
    "    d = abs(xh-xl)\n",
    "    tol = 10**-10\n",
    "\n",
    "    while d > tol:\n",
    "        d = abs(xl-xh)\n",
    "        if f(xl)<f(xh):\n",
    "            a = xl\n",
    "            xl = a+(3-5**.5)/2*(b-a) \n",
    "            fl = f(xl)\n",
    "            xh = a+(5**.5-1)/2*(b-a)\n",
    "            fh = f(xh)\n",
    "        else:\n",
    "            b = xh\n",
    "            xl = a+(3-5**.5)/2*(b-a) \n",
    "            fl = f(xl)\n",
    "            xh = a+(5**.5-1)/2*(b-a) \n",
    "            fh = f(xh)\n",
    "        \n",
    "\n",
    "\n",
    "    if fh>fl:\n",
    "        m = [fh,xh]\n",
    "    else:\n",
    "        m = [fl,xl]\n",
    "\n",
    "    return m"
   ]
  },
  {
   "cell_type": "code",
   "execution_count": 2,
   "metadata": {},
   "outputs": [
    {
     "data": {
      "text/plain": [
       "[0.25, 0.49999999630040304]"
      ]
     },
     "execution_count": 2,
     "metadata": {},
     "output_type": "execute_result"
    }
   ],
   "source": [
    "gsearch(lambda t: x*math.cos(x**2),0,3)\n"
   ]
  },
  {
   "cell_type": "code",
   "execution_count": 2,
   "metadata": {},
   "outputs": [
    {
     "data": {
      "text/plain": [
       "[2.514470818617907, 2.5222252852811256]"
      ]
     },
     "execution_count": 2,
     "metadata": {},
     "output_type": "execute_result"
    }
   ],
   "source": [
    "import math\n",
    "gsearch(lambda x: x*math.cos(x**2),2,3)"
   ]
  },
  {
   "cell_type": "code",
   "execution_count": 5,
   "metadata": {},
   "outputs": [
    {
     "data": {
      "image/png": "[encoded data removed]",
      "text/plain": [
       "<matplotlib.figure.Figure at 0x11541af60>"
      ]
     },
     "metadata": {},
     "output_type": "display_data"
    }
   ],
   "source": [
    "import  matplotlib.pyplot as plt\n",
    "import numpy as np\n",
    "\n",
    "\n",
    "f = lambda x: x*math.cos(x**2)\n",
    "\n",
    "#define the domain\n",
    "xx = np.arange( start = 0,\n",
    "                stop = 3,\n",
    "                step = 0.01)\n",
    "y= np.empty(np.size(xx))\n",
    "\n",
    "for i in range(1,300):\n",
    "    y[i] = f(xx[i]) \n",
    "    \n",
    "plt.plot(xx, y)\n",
    "plt.savefig('fun_gsearch_fig.pdf')\n",
    "plt.show()\n"
   ]
  },
  {
   "cell_type": "code",
   "execution_count": 46,
   "metadata": {
    "collapsed": true
   },
   "outputs": [],
   "source": []
  },
  {
   "cell_type": "code",
   "execution_count": null,
   "metadata": {
    "collapsed": true
   },
   "outputs": [],
   "source": [
    "\n"
   ]
  },
  {
   "cell_type": "code",
   "execution_count": null,
   "metadata": {
    "collapsed": true
   },
   "outputs": [],
   "source": []
  }
 ],
 "metadata": {
  "kernelspec": {
   "display_name": "Python 3",
   "language": "python",
   "name": "python3"
  },
  "language_info": {
   "codemirror_mode": {
    "name": "ipython",
    "version": 3
   },
   "file_extension": ".py",
   "mimetype": "text/x-python",
   "name": "python",
   "nbconvert_exporter": "python",
   "pygments_lexer": "ipython3",
   "version": "3.7.6"
  }
 },
 "nbformat": 4,
 "nbformat_minor": 2
}
